{
 "cells": [
  {
   "cell_type": "code",
   "execution_count": 11,
   "id": "4c541b46-f24d-4cd6-a3fa-b069995dbf95",
   "metadata": {},
   "outputs": [
    {
     "data": {
      "text/html": [
       "<div>\n",
       "<style scoped>\n",
       "    .dataframe tbody tr th:only-of-type {\n",
       "        vertical-align: middle;\n",
       "    }\n",
       "\n",
       "    .dataframe tbody tr th {\n",
       "        vertical-align: top;\n",
       "    }\n",
       "\n",
       "    .dataframe thead th {\n",
       "        text-align: right;\n",
       "    }\n",
       "</style>\n",
       "<table border=\"1\" class=\"dataframe\">\n",
       "  <thead>\n",
       "    <tr style=\"text-align: right;\">\n",
       "      <th></th>\n",
       "      <th>own_speed</th>\n",
       "      <th>COG</th>\n",
       "      <th>current_dir</th>\n",
       "      <th>current_mag</th>\n",
       "    </tr>\n",
       "  </thead>\n",
       "  <tbody>\n",
       "    <tr>\n",
       "      <th>0</th>\n",
       "      <td>14</td>\n",
       "      <td>79</td>\n",
       "      <td>10</td>\n",
       "      <td>2.0</td>\n",
       "    </tr>\n",
       "    <tr>\n",
       "      <th>1</th>\n",
       "      <td>18</td>\n",
       "      <td>111</td>\n",
       "      <td>148</td>\n",
       "      <td>3.0</td>\n",
       "    </tr>\n",
       "    <tr>\n",
       "      <th>2</th>\n",
       "      <td>17</td>\n",
       "      <td>157</td>\n",
       "      <td>204</td>\n",
       "      <td>1.5</td>\n",
       "    </tr>\n",
       "    <tr>\n",
       "      <th>3</th>\n",
       "      <td>21</td>\n",
       "      <td>281</td>\n",
       "      <td>235</td>\n",
       "      <td>4.0</td>\n",
       "    </tr>\n",
       "    <tr>\n",
       "      <th>4</th>\n",
       "      <td>15</td>\n",
       "      <td>227</td>\n",
       "      <td>270</td>\n",
       "      <td>2.0</td>\n",
       "    </tr>\n",
       "    <tr>\n",
       "      <th>5</th>\n",
       "      <td>12</td>\n",
       "      <td>333</td>\n",
       "      <td>285</td>\n",
       "      <td>2.0</td>\n",
       "    </tr>\n",
       "    <tr>\n",
       "      <th>6</th>\n",
       "      <td>16</td>\n",
       "      <td>307</td>\n",
       "      <td>349</td>\n",
       "      <td>3.0</td>\n",
       "    </tr>\n",
       "    <tr>\n",
       "      <th>7</th>\n",
       "      <td>23</td>\n",
       "      <td>29</td>\n",
       "      <td>318</td>\n",
       "      <td>2.5</td>\n",
       "    </tr>\n",
       "  </tbody>\n",
       "</table>\n",
       "</div>"
      ],
      "text/plain": [
       "   own_speed  COG  current_dir  current_mag\n",
       "0         14   79           10          2.0\n",
       "1         18  111          148          3.0\n",
       "2         17  157          204          1.5\n",
       "3         21  281          235          4.0\n",
       "4         15  227          270          2.0\n",
       "5         12  333          285          2.0\n",
       "6         16  307          349          3.0\n",
       "7         23   29          318          2.5"
      ]
     },
     "execution_count": 11,
     "metadata": {},
     "output_type": "execute_result"
    }
   ],
   "source": [
    "import pandas as pd\n",
    "import matplotlib.pyplot as plt\n",
    "import math as M\n",
    "import numpy as np\n",
    "\n",
    "\n",
    "df = pd.DataFrame({'own_speed':  [14, 18, 17, 21, 15, 12, 16, 23],\n",
    "                   'COG':        [79, 111, 157, 281, 227, 333, 307,29],\n",
    "                   'current_dir':[10, 148, 204, 235, 270, 285, 349, 318],\n",
    "                   'current_mag':[2, 3, 1.5, 4, 2, 2, 3, 2.5]})\n",
    "                   \n",
    "df"
   ]
  },
  {
   "cell_type": "code",
   "execution_count": 24,
   "id": "8940bf61-329c-4d16-bbe0-49a868c215cf",
   "metadata": {},
   "outputs": [],
   "source": [
    "# df colunms to individual np arrays\n",
    "\n",
    "#cog = np.array(df['COG'])\n",
    "#os = np.array(df['own_speed'])\n",
    "#cd = np.array(df['current_dir'])\n",
    "#cm = np.array(df['current_mag'])"
   ]
  },
  {
   "cell_type": "code",
   "execution_count": 12,
   "id": "e20b0449-4d3f-446b-99b2-c81ae37326f3",
   "metadata": {},
   "outputs": [
    {
     "name": "stdout",
     "output_type": "stream",
     "text": [
      "-1.229386118158558\n",
      "-70.4386359624569\n"
     ]
    }
   ],
   "source": [
    "cog = 143 \n",
    "cd =  204 # degrees\n",
    "\n",
    "cm =  3 \n",
    "os =  16 # knots\n",
    "\n",
    "#Q: Heading own ship?? and speed overground via given parameters\n",
    "\n",
    "# delta true course  (COG - current_direction)\n",
    "dtc = cog - cd\n",
    "dtc_rad = np.radians(dtc)\n",
    "\n",
    "# alpha: oversteer_angle, Dutch 'opstuurhoek' \n",
    "# sin(alpha) = ((currentspeed/shipspeed) ) \n",
    "a = cm/os\n",
    "b = np.sin(dtc_rad)\n",
    "c = a*b\n",
    "\n",
    "\n",
    "alpha_rad = np.arcsin(c)\n",
    "alpha_deg = np.degrees(c)\n",
    "#alpha_deg\n",
    "\n",
    "\n",
    "# delta true course + alpha\n",
    "a_dtc = rad_dtc + alpha_rad\n",
    "a_dtc\n",
    "a_dtc_deg = np.degrees(a_dtc)\n",
    "print (a_dtc)\n",
    "print (a_dtc_deg)"
   ]
  },
  {
   "cell_type": "markdown",
   "id": "332e508c-079f-45ab-bb2d-31685e5c88f9",
   "metadata": {},
   "source": [
    "## Calculated heading"
   ]
  },
  {
   "cell_type": "code",
   "execution_count": null,
   "id": "4db480b9-0748-4abf-bc6a-875609aedc06",
   "metadata": {},
   "outputs": [
    {
     "name": "stdout",
     "output_type": "stream",
     "text": [
      "2.3310855559098744\n",
      "133.56136403754311\n"
     ]
    }
   ],
   "source": [
    "# calculated heading or 'dutch: warekoers' = cog + alpha \n",
    "hc_rad = np.radians(cog) + alpha_rad\n",
    "hc_deg = np.degrees(hc_rad)\n",
    "print(hc_rad)\n",
    "print(hc_deg)"
   ]
  },
  {
   "cell_type": "markdown",
   "id": "7fd81a5d-6bf4-4bbf-8f0f-498740d15d1c",
   "metadata": {},
   "source": [
    "## Calculated Speed over ground\n"
   ]
  },
  {
   "cell_type": "code",
   "execution_count": 21,
   "id": "65846a07-6526-486f-a91c-96e4f297d839",
   "metadata": {},
   "outputs": [
    {
     "name": "stdout",
     "output_type": "stream",
     "text": [
      "17.2378177018894\n"
     ]
    }
   ],
   "source": [
    "# cal sog = speed of ownship * sin((delta true course + aplha)/sin(delta true course))\n",
    "k = np.sin(a_dtc) # delta true course + alpha\n",
    "l = np.sin(dtc_rad) # delta true course\n",
    "m = k/l\n",
    "sog_cal = os*m\n",
    "print(sog_cal)"
   ]
  },
  {
   "cell_type": "code",
   "execution_count": 23,
   "id": "29ad21ed-998e-4a9d-82d7-46f2dd7a800d",
   "metadata": {},
   "outputs": [
    {
     "data": {
      "text/plain": [
       "[]"
      ]
     },
     "execution_count": 23,
     "metadata": {},
     "output_type": "execute_result"
    },
    {
     "data": {
      "image/png": "[encoded data removed]",
      "text/plain": [
       "<Figure size 432x288 with 1 Axes>"
      ]
     },
     "metadata": {
      "needs_background": "light"
     },
     "output_type": "display_data"
    }
   ],
   "source": [
    "plt.polar()"
   ]
  }
 ],
 "metadata": {
  "kernelspec": {
   "display_name": "Python 3",
   "language": "python",
   "name": "python3"
  },
  "language_info": {
   "codemirror_mode": {
    "name": "ipython",
    "version": 3
   },
   "file_extension": ".py",
   "mimetype": "text/x-python",
   "name": "python",
   "nbconvert_exporter": "python",
   "pygments_lexer": "ipython3",
   "version": "3.9.1"
  }
 },
 "nbformat": 4,
 "nbformat_minor": 5
}
